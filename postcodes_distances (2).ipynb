{
  "nbformat": 4,
  "nbformat_minor": 0,
  "metadata": {
    "colab": {
      "provenance": []
    },
    "kernelspec": {
      "name": "python3",
      "display_name": "Python 3"
    },
    "language_info": {
      "name": "python"
    }
  },
  "cells": [
    {
      "cell_type": "code",
      "source": [
        "!pip install googlemaps"
      ],
      "metadata": {
        "colab": {
          "base_uri": "https://localhost:8080/"
        },
        "id": "ro0Qo3unZZ1u",
        "outputId": "46ecf7bf-517a-43a9-e92e-50977c6c09da"
      },
      "execution_count": 2,
      "outputs": [
        {
          "output_type": "stream",
          "name": "stdout",
          "text": [
            "Collecting googlemaps\n",
            "  Downloading googlemaps-4.10.0.tar.gz (33 kB)\n",
            "  Preparing metadata (setup.py) ... \u001b[?25l\u001b[?25hdone\n",
            "Requirement already satisfied: requests<3.0,>=2.20.0 in /usr/local/lib/python3.10/dist-packages (from googlemaps) (2.32.3)\n",
            "Requirement already satisfied: charset-normalizer<4,>=2 in /usr/local/lib/python3.10/dist-packages (from requests<3.0,>=2.20.0->googlemaps) (3.3.2)\n",
            "Requirement already satisfied: idna<4,>=2.5 in /usr/local/lib/python3.10/dist-packages (from requests<3.0,>=2.20.0->googlemaps) (3.10)\n",
            "Requirement already satisfied: urllib3<3,>=1.21.1 in /usr/local/lib/python3.10/dist-packages (from requests<3.0,>=2.20.0->googlemaps) (2.2.3)\n",
            "Requirement already satisfied: certifi>=2017.4.17 in /usr/local/lib/python3.10/dist-packages (from requests<3.0,>=2.20.0->googlemaps) (2024.8.30)\n",
            "Building wheels for collected packages: googlemaps\n",
            "  Building wheel for googlemaps (setup.py) ... \u001b[?25l\u001b[?25hdone\n",
            "  Created wheel for googlemaps: filename=googlemaps-4.10.0-py3-none-any.whl size=40716 sha256=6b993b76813d0f47adc6b17103dfa39c50abc6b5f76f73c60842e465a48a0863\n",
            "  Stored in directory: /root/.cache/pip/wheels/17/f8/79/999d5d37118fd35d7219ef57933eb9d09886c4c4503a800f84\n",
            "Successfully built googlemaps\n",
            "Installing collected packages: googlemaps\n",
            "Successfully installed googlemaps-4.10.0\n"
          ]
        }
      ]
    },
    {
      "cell_type": "code",
      "source": [
        "import pandas as pd\n",
        "import googlemaps\n",
        "\n",
        "# Initialize the Google Maps client\n",
        "gmaps = googlemaps.Client(key='YOUR_KEY_GOES_HERE!!!')  # Replace with your actual key\n",
        "\n",
        "# Load the Excel file (replace with the path to the file in Colab)\n",
        "df = pd.read_excel('/content/filename.xlsx')  # Replace with real filename\n",
        "\n",
        "# Define the destination\n",
        "destination = \"Robert Gordon University, Garthdee House\"\n",
        "\n",
        "# Function to get distance between two places using Google Maps API (driving mode, shortest route)\n",
        "def get_distance(postcode):\n",
        "    try:\n",
        "        # Request directions between the postcode and destination with driving mode\n",
        "        directions = gmaps.directions(postcode, destination, mode=\"driving\", alternatives=False)\n",
        "        # Extract distance in meters\n",
        "        distance_meters = directions[0]['legs'][0]['distance']['value']\n",
        "        # Convert meters to miles and round to 1 decimal place\n",
        "        distance_miles = round(distance_meters * 0.000621371, 1)\n",
        "        return distance_miles\n",
        "    except Exception as e:\n",
        "        print(f\"Error getting distance for {postcode}: {e}\")\n",
        "        return None\n",
        "\n",
        "# Apply the function to each postcode and update the 'Miles from campus' column (Column B)\n",
        "df['Miles from campus'] = df['Postcode'].apply(get_distance)\n",
        "\n",
        "# Save the updated spreadsheet as an Excel file\n",
        "df.to_excel('/content/filename.xlsx', index=False) # Replace with real filename\n",
        "\n",
        "# Download the Excel file to your computer\n",
        "from google.colab import files\n",
        "files.download('/content/filename.xlsx') # Replace with real filename\n"
      ],
      "metadata": {
        "colab": {
          "base_uri": "https://localhost:8080/",
          "height": 17
        },
        "id": "AKPrfU3hbUYl",
        "outputId": "1dbd8c47-94a8-4d6b-b797-93434d8d0529"
      },
      "execution_count": 7,
      "outputs": [
        {
          "output_type": "display_data",
          "data": {
            "text/plain": [
              "<IPython.core.display.Javascript object>"
            ],
            "application/javascript": [
              "\n",
              "    async function download(id, filename, size) {\n",
              "      if (!google.colab.kernel.accessAllowed) {\n",
              "        return;\n",
              "      }\n",
              "      const div = document.createElement('div');\n",
              "      const label = document.createElement('label');\n",
              "      label.textContent = `Downloading \"${filename}\": `;\n",
              "      div.appendChild(label);\n",
              "      const progress = document.createElement('progress');\n",
              "      progress.max = size;\n",
              "      div.appendChild(progress);\n",
              "      document.body.appendChild(div);\n",
              "\n",
              "      const buffers = [];\n",
              "      let downloaded = 0;\n",
              "\n",
              "      const channel = await google.colab.kernel.comms.open(id);\n",
              "      // Send a message to notify the kernel that we're ready.\n",
              "      channel.send({})\n",
              "\n",
              "      for await (const message of channel.messages) {\n",
              "        // Send a message to notify the kernel that we're ready.\n",
              "        channel.send({})\n",
              "        if (message.buffers) {\n",
              "          for (const buffer of message.buffers) {\n",
              "            buffers.push(buffer);\n",
              "            downloaded += buffer.byteLength;\n",
              "            progress.value = downloaded;\n",
              "          }\n",
              "        }\n",
              "      }\n",
              "      const blob = new Blob(buffers, {type: 'application/binary'});\n",
              "      const a = document.createElement('a');\n",
              "      a.href = window.URL.createObjectURL(blob);\n",
              "      a.download = filename;\n",
              "      div.appendChild(a);\n",
              "      a.click();\n",
              "      div.remove();\n",
              "    }\n",
              "  "
            ]
          },
          "metadata": {}
        },
        {
          "output_type": "display_data",
          "data": {
            "text/plain": [
              "<IPython.core.display.Javascript object>"
            ],
            "application/javascript": [
              "download(\"download_0bf44f18-9faa-4791-81bf-162370072fed\", \"non AB or DD postcodes-done.xlsx\", 7584)"
            ]
          },
          "metadata": {}
        }
      ]
    }
  ]
}